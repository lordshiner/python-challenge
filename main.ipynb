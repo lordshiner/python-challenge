{
 "cells": [
  {
   "cell_type": "code",
   "execution_count": 1,
   "metadata": {},
   "outputs": [
    {
     "name": "stdout",
     "output_type": "stream",
     "text": [
      "Financial Analysis\n",
      "----------------------------\n",
      "Total Months: 86\n",
      "Total: $38382578\n",
      "Average  Change: $-2315.12\n",
      "Greatest Increase in Profits: Feb-2012 (1926159)\n",
      "Greatest Decrease in Profits: Sep-2013 (-2196167)\n"
     ]
    }
   ],
   "source": [
    "import os\n",
    "import csv\n",
    "\n",
    "d = []\n",
    "r = 0\n",
    "var1 = -1\n",
    "\n",
    "csvpath = os.path.join (\"Resources\",\"budget_data.csv\")\n",
    "with open(csvpath, 'r' , newline = '') as csvfile:\n",
    "    reader = csv.reader (csvfile, delimiter = ',')\n",
    "    for rows in reader:\n",
    "        r += 1\n",
    "        d.append([r-1,rows[0],rows[1]])\n",
    "\n",
    "row_num = [item[0] for item in d]\n",
    "the_date = [item[1] for item in d]\n",
    "the_PL = [item[2] for item in d]\n",
    "\n",
    "for items in d:\n",
    "    var1 += 1\n",
    "    if  var1 >= 2:\n",
    "        diff1 = int(the_PL[var1])\n",
    "        diff2 = int(the_PL[var1 - 1])\n",
    "        diff = diff1 - diff2\n",
    "        d[var1].append(diff)\n",
    "        d[var1].append(diff1)\n",
    "    elif var1 == 1:\n",
    "        placeholder = 0\n",
    "        diff1 = int(the_PL[var1])\n",
    "        d[var1].append(placeholder)\n",
    "        d[var1].append(diff1)\n",
    "    else:\n",
    "        placeholder = 0\n",
    "        d[var1].append(placeholder)\n",
    "        d[var1].append(placeholder)\n",
    "        \n",
    "rolling_diff = [item[3] for item in d]\n",
    "PL_int = [item[4] for item in d]\n",
    "\n",
    "Months = str(len(d)-1)\n",
    "max_index = rolling_diff.index(max(rolling_diff))\n",
    "min_index = rolling_diff.index(min(rolling_diff))\n",
    "Increase_month = the_date[max_index]\n",
    "Increase_Amt = max(rolling_diff)\n",
    "Decrease_month = the_date[min_index]\n",
    "Decrease_Amt = min(rolling_diff)\n",
    "count = len(rolling_diff)-2\n",
    "sum_diff = sum(rolling_diff)\n",
    "avg_diff = round(float(sum_diff/count),2)\n",
    "Total = str(sum(PL_int))\n",
    "\n",
    "output_path = os.path.join (\"Resources\",\"PyBankResults.csv\")\n",
    "\n",
    "print(\"Financial Analysis\")\n",
    "print(\"----------------------------\")\n",
    "print(f\"Total Months: {Months}\")\n",
    "print(f\"Total: ${Total}\")\n",
    "print(f\"Average  Change: ${str(avg_diff)}\")\n",
    "print(f\"Greatest Increase in Profits: {Increase_month} ({str(Increase_Amt)})\")\n",
    "print(f\"Greatest Decrease in Profits: {Decrease_month} ({str(Decrease_Amt)})\")\n",
    "\n",
    "with open(output_path,'w', newline = '') as outputfile:\n",
    "    writer = csv.writer (outputfile, delimiter = ',')\n",
    "    writer.writerow ([\"Financial Analysis\",\"\"])\n",
    "    writer.writerow ([\"----------------------------\",\"\"])\n",
    "    writer.writerow ([f\"Total Months: {Months}\",\"\"])\n",
    "    writer.writerow ([f\"Total: ${Total}\",\"\"])\n",
    "    writer.writerow ([f\"Average  Change: ${str(avg_diff)}\",\"\"])\n",
    "    writer.writerow ([f\"Greatest Increase in Profits: {Increase_month} ({str(Increase_Amt)})\",\"\"])\n",
    "    writer.writerow ([f\"Greatest Decrease in Profits: {Decrease_month} ({str(Decrease_Amt)})\",\"\"])\n",
    "    "
   ]
  },
  {
   "cell_type": "code",
   "execution_count": null,
   "metadata": {},
   "outputs": [],
   "source": []
  }
 ],
 "metadata": {
  "kernelspec": {
   "display_name": "Python 3",
   "language": "python",
   "name": "python3"
  },
  "language_info": {
   "codemirror_mode": {
    "name": "ipython",
    "version": 3
   },
   "file_extension": ".py",
   "mimetype": "text/x-python",
   "name": "python",
   "nbconvert_exporter": "python",
   "pygments_lexer": "ipython3",
   "version": "3.7.3"
  }
 },
 "nbformat": 4,
 "nbformat_minor": 2
}
